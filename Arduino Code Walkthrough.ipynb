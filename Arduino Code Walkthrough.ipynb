{
 "cells": [
  {
   "cell_type": "code",
   "execution_count": null,
   "metadata": {},
   "outputs": [],
   "source": [
    "//Libraries\n",
    "#include <PID_v1.h>     //PID library\n",
    "#include <EnableInterrupt.h>  //library that enables to read pwm values\n",
    "#include <Adafruit_MPU6050.h> //gyro library\n",
    "#include <Adafruit_Sensor.h>  //library to run adafruit sensors\n",
    "#include <Wire.h>   //library that enables serail communications\n",
    "#include <GyroToVelocity.h>   //geometry functions for HIP and KNEE actuators"
   ]
  }
 ],
 "metadata": {
  "kernelspec": {
   "display_name": "Python 3.10.5 64-bit",
   "language": "python",
   "name": "python3"
  },
  "language_info": {
   "name": "python",
   "version": "3.10.5"
  },
  "orig_nbformat": 4,
  "vscode": {
   "interpreter": {
    "hash": "52b1b21efe49a325aa6e80bcc8cd3d533fb7962068e452371aaa8868ec796175"
   }
  }
 },
 "nbformat": 4,
 "nbformat_minor": 2
}
